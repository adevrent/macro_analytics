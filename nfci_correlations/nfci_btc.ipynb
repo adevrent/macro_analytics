{
 "cells": [
  {
   "cell_type": "code",
   "execution_count": 311,
   "metadata": {},
   "outputs": [],
   "source": [
    "import pandas as pd\n",
    "import numpy as np\n",
    "from matplotlib import pyplot as plt\n",
    "from scipy import stats as st"
   ]
  },
  {
   "cell_type": "code",
   "execution_count": 312,
   "metadata": {},
   "outputs": [
    {
     "data": {
      "text/html": [
       "<div>\n",
       "<style scoped>\n",
       "    .dataframe tbody tr th:only-of-type {\n",
       "        vertical-align: middle;\n",
       "    }\n",
       "\n",
       "    .dataframe tbody tr th {\n",
       "        vertical-align: top;\n",
       "    }\n",
       "\n",
       "    .dataframe thead th {\n",
       "        text-align: right;\n",
       "    }\n",
       "</style>\n",
       "<table border=\"1\" class=\"dataframe\">\n",
       "  <thead>\n",
       "    <tr style=\"text-align: right;\">\n",
       "      <th></th>\n",
       "      <th>NFCI</th>\n",
       "    </tr>\n",
       "    <tr>\n",
       "      <th>Date</th>\n",
       "      <th></th>\n",
       "    </tr>\n",
       "  </thead>\n",
       "  <tbody>\n",
       "    <tr>\n",
       "      <th>1971-01-08</th>\n",
       "      <td>0.561713</td>\n",
       "    </tr>\n",
       "    <tr>\n",
       "      <th>1971-01-15</th>\n",
       "      <td>0.610193</td>\n",
       "    </tr>\n",
       "    <tr>\n",
       "      <th>1971-01-22</th>\n",
       "      <td>0.669149</td>\n",
       "    </tr>\n",
       "    <tr>\n",
       "      <th>1971-01-29</th>\n",
       "      <td>0.733014</td>\n",
       "    </tr>\n",
       "    <tr>\n",
       "      <th>1971-02-05</th>\n",
       "      <td>0.797482</td>\n",
       "    </tr>\n",
       "    <tr>\n",
       "      <th>...</th>\n",
       "      <td>...</td>\n",
       "    </tr>\n",
       "    <tr>\n",
       "      <th>2022-11-04</th>\n",
       "      <td>-0.120065</td>\n",
       "    </tr>\n",
       "    <tr>\n",
       "      <th>2022-11-11</th>\n",
       "      <td>-0.157315</td>\n",
       "    </tr>\n",
       "    <tr>\n",
       "      <th>2022-11-18</th>\n",
       "      <td>-0.186452</td>\n",
       "    </tr>\n",
       "    <tr>\n",
       "      <th>2022-11-25</th>\n",
       "      <td>-0.208468</td>\n",
       "    </tr>\n",
       "    <tr>\n",
       "      <th>2022-12-02</th>\n",
       "      <td>-0.220775</td>\n",
       "    </tr>\n",
       "  </tbody>\n",
       "</table>\n",
       "<p>2709 rows × 1 columns</p>\n",
       "</div>"
      ],
      "text/plain": [
       "                NFCI\n",
       "Date                \n",
       "1971-01-08  0.561713\n",
       "1971-01-15  0.610193\n",
       "1971-01-22  0.669149\n",
       "1971-01-29  0.733014\n",
       "1971-02-05  0.797482\n",
       "...              ...\n",
       "2022-11-04 -0.120065\n",
       "2022-11-11 -0.157315\n",
       "2022-11-18 -0.186452\n",
       "2022-11-25 -0.208468\n",
       "2022-12-02 -0.220775\n",
       "\n",
       "[2709 rows x 1 columns]"
      ]
     },
     "execution_count": 312,
     "metadata": {},
     "output_type": "execute_result"
    }
   ],
   "source": [
    "df_nfci = pd.read_csv(\"/home/sscf/macro_analytics/nfci_correlations/nfci_weekly.csv\")\n",
    "df_nfci[\"Date\"] = pd.to_datetime(df_nfci[\"Friday_of_Week\"])\n",
    "df_nfci = df_nfci.drop(labels = [\"Friday_of_Week\", \"ANFCI\", \"Risk\", \"Credit\", \"Leverage\", \"Nonfinancial_Leverage\"], axis = \"columns\")\n",
    "df_nfci.set_index(\"Date\", inplace = True)\n",
    "\n",
    "df_nfci"
   ]
  },
  {
   "cell_type": "code",
   "execution_count": 313,
   "metadata": {},
   "outputs": [
    {
     "data": {
      "text/html": [
       "<div>\n",
       "<style scoped>\n",
       "    .dataframe tbody tr th:only-of-type {\n",
       "        vertical-align: middle;\n",
       "    }\n",
       "\n",
       "    .dataframe tbody tr th {\n",
       "        vertical-align: top;\n",
       "    }\n",
       "\n",
       "    .dataframe thead th {\n",
       "        text-align: right;\n",
       "    }\n",
       "</style>\n",
       "<table border=\"1\" class=\"dataframe\">\n",
       "  <thead>\n",
       "    <tr style=\"text-align: right;\">\n",
       "      <th></th>\n",
       "      <th>btc_price</th>\n",
       "    </tr>\n",
       "    <tr>\n",
       "      <th>Date</th>\n",
       "      <th></th>\n",
       "    </tr>\n",
       "  </thead>\n",
       "  <tbody>\n",
       "    <tr>\n",
       "      <th>2010-07-18</th>\n",
       "      <td>0.1</td>\n",
       "    </tr>\n",
       "    <tr>\n",
       "      <th>2010-07-19</th>\n",
       "      <td>0.1</td>\n",
       "    </tr>\n",
       "    <tr>\n",
       "      <th>2010-07-20</th>\n",
       "      <td>0.1</td>\n",
       "    </tr>\n",
       "    <tr>\n",
       "      <th>2010-07-21</th>\n",
       "      <td>0.1</td>\n",
       "    </tr>\n",
       "    <tr>\n",
       "      <th>2010-07-22</th>\n",
       "      <td>0.1</td>\n",
       "    </tr>\n",
       "    <tr>\n",
       "      <th>...</th>\n",
       "      <td>...</td>\n",
       "    </tr>\n",
       "    <tr>\n",
       "      <th>2022-12-10</th>\n",
       "      <td>17,127.2</td>\n",
       "    </tr>\n",
       "    <tr>\n",
       "      <th>2022-12-11</th>\n",
       "      <td>17,093.3</td>\n",
       "    </tr>\n",
       "    <tr>\n",
       "      <th>2022-12-12</th>\n",
       "      <td>17,210.4</td>\n",
       "    </tr>\n",
       "    <tr>\n",
       "      <th>2022-12-13</th>\n",
       "      <td>17,778.6</td>\n",
       "    </tr>\n",
       "    <tr>\n",
       "      <th>2022-12-14</th>\n",
       "      <td>17,824.3</td>\n",
       "    </tr>\n",
       "  </tbody>\n",
       "</table>\n",
       "<p>4533 rows × 1 columns</p>\n",
       "</div>"
      ],
      "text/plain": [
       "           btc_price\n",
       "Date                \n",
       "2010-07-18       0.1\n",
       "2010-07-19       0.1\n",
       "2010-07-20       0.1\n",
       "2010-07-21       0.1\n",
       "2010-07-22       0.1\n",
       "...              ...\n",
       "2022-12-10  17,127.2\n",
       "2022-12-11  17,093.3\n",
       "2022-12-12  17,210.4\n",
       "2022-12-13  17,778.6\n",
       "2022-12-14  17,824.3\n",
       "\n",
       "[4533 rows x 1 columns]"
      ]
     },
     "execution_count": 313,
     "metadata": {},
     "output_type": "execute_result"
    }
   ],
   "source": [
    "df_btc = pd.read_csv(\"/home/sscf/macro_analytics/nfci_correlations/btc_daily.csv\")\n",
    "df_btc[\"Date\"] = pd.to_datetime(df_btc[\"Date\"])\n",
    "df_btc[\"btc_price\"] = df_btc[\"Price\"]\n",
    "df_btc = df_btc.drop(labels = [\"Open\", \"High\", \"Low\", \"Vol.\", \"Price\", \"Change %\"], axis = \"columns\")\n",
    "df_btc.set_index(\"Date\", inplace = True)\n",
    "\n",
    "df_btc"
   ]
  },
  {
   "cell_type": "code",
   "execution_count": 314,
   "metadata": {},
   "outputs": [
    {
     "data": {
      "text/html": [
       "<div>\n",
       "<style scoped>\n",
       "    .dataframe tbody tr th:only-of-type {\n",
       "        vertical-align: middle;\n",
       "    }\n",
       "\n",
       "    .dataframe tbody tr th {\n",
       "        vertical-align: top;\n",
       "    }\n",
       "\n",
       "    .dataframe thead th {\n",
       "        text-align: right;\n",
       "    }\n",
       "</style>\n",
       "<table border=\"1\" class=\"dataframe\">\n",
       "  <thead>\n",
       "    <tr style=\"text-align: right;\">\n",
       "      <th></th>\n",
       "      <th>NFCI</th>\n",
       "      <th>btc_price</th>\n",
       "      <th>NFCI_diff</th>\n",
       "      <th>NFCI_diff_percent</th>\n",
       "      <th>btc_diff</th>\n",
       "      <th>btc_diff_percent</th>\n",
       "    </tr>\n",
       "    <tr>\n",
       "      <th>Date</th>\n",
       "      <th></th>\n",
       "      <th></th>\n",
       "      <th></th>\n",
       "      <th></th>\n",
       "      <th></th>\n",
       "      <th></th>\n",
       "    </tr>\n",
       "  </thead>\n",
       "  <tbody>\n",
       "    <tr>\n",
       "      <th>2010-09-03</th>\n",
       "      <td>-0.239802</td>\n",
       "      <td>0.1</td>\n",
       "      <td>-0.002466</td>\n",
       "      <td>0.010392</td>\n",
       "      <td>0.0</td>\n",
       "      <td>0.000000</td>\n",
       "    </tr>\n",
       "    <tr>\n",
       "      <th>2010-09-10</th>\n",
       "      <td>-0.253037</td>\n",
       "      <td>0.1</td>\n",
       "      <td>-0.013236</td>\n",
       "      <td>0.055194</td>\n",
       "      <td>0.0</td>\n",
       "      <td>0.000000</td>\n",
       "    </tr>\n",
       "    <tr>\n",
       "      <th>2010-09-17</th>\n",
       "      <td>-0.274572</td>\n",
       "      <td>0.1</td>\n",
       "      <td>-0.021534</td>\n",
       "      <td>0.085103</td>\n",
       "      <td>0.0</td>\n",
       "      <td>0.000000</td>\n",
       "    </tr>\n",
       "    <tr>\n",
       "      <th>2010-09-24</th>\n",
       "      <td>-0.301570</td>\n",
       "      <td>0.1</td>\n",
       "      <td>-0.026998</td>\n",
       "      <td>0.098327</td>\n",
       "      <td>0.0</td>\n",
       "      <td>0.000000</td>\n",
       "    </tr>\n",
       "    <tr>\n",
       "      <th>2010-10-01</th>\n",
       "      <td>-0.332171</td>\n",
       "      <td>0.1</td>\n",
       "      <td>-0.030602</td>\n",
       "      <td>0.101474</td>\n",
       "      <td>0.0</td>\n",
       "      <td>0.000000</td>\n",
       "    </tr>\n",
       "    <tr>\n",
       "      <th>...</th>\n",
       "      <td>...</td>\n",
       "      <td>...</td>\n",
       "      <td>...</td>\n",
       "      <td>...</td>\n",
       "      <td>...</td>\n",
       "      <td>...</td>\n",
       "    </tr>\n",
       "    <tr>\n",
       "      <th>2022-11-04</th>\n",
       "      <td>-0.120065</td>\n",
       "      <td>21145.9</td>\n",
       "      <td>-0.037496</td>\n",
       "      <td>0.454107</td>\n",
       "      <td>551.5</td>\n",
       "      <td>0.026779</td>\n",
       "    </tr>\n",
       "    <tr>\n",
       "      <th>2022-11-11</th>\n",
       "      <td>-0.157315</td>\n",
       "      <td>17049.9</td>\n",
       "      <td>-0.037250</td>\n",
       "      <td>0.310246</td>\n",
       "      <td>-4096.0</td>\n",
       "      <td>-0.193702</td>\n",
       "    </tr>\n",
       "    <tr>\n",
       "      <th>2022-11-18</th>\n",
       "      <td>-0.186452</td>\n",
       "      <td>16638.3</td>\n",
       "      <td>-0.029137</td>\n",
       "      <td>0.185215</td>\n",
       "      <td>-411.6</td>\n",
       "      <td>-0.024141</td>\n",
       "    </tr>\n",
       "    <tr>\n",
       "      <th>2022-11-25</th>\n",
       "      <td>-0.208468</td>\n",
       "      <td>16512.3</td>\n",
       "      <td>-0.022016</td>\n",
       "      <td>0.118079</td>\n",
       "      <td>-126.0</td>\n",
       "      <td>-0.007573</td>\n",
       "    </tr>\n",
       "    <tr>\n",
       "      <th>2022-12-02</th>\n",
       "      <td>-0.220775</td>\n",
       "      <td>17093.6</td>\n",
       "      <td>-0.012307</td>\n",
       "      <td>0.059034</td>\n",
       "      <td>581.3</td>\n",
       "      <td>0.035204</td>\n",
       "    </tr>\n",
       "  </tbody>\n",
       "</table>\n",
       "<p>640 rows × 6 columns</p>\n",
       "</div>"
      ],
      "text/plain": [
       "                NFCI  btc_price  NFCI_diff  NFCI_diff_percent  btc_diff  \\\n",
       "Date                                                                      \n",
       "2010-09-03 -0.239802        0.1  -0.002466           0.010392       0.0   \n",
       "2010-09-10 -0.253037        0.1  -0.013236           0.055194       0.0   \n",
       "2010-09-17 -0.274572        0.1  -0.021534           0.085103       0.0   \n",
       "2010-09-24 -0.301570        0.1  -0.026998           0.098327       0.0   \n",
       "2010-10-01 -0.332171        0.1  -0.030602           0.101474       0.0   \n",
       "...              ...        ...        ...                ...       ...   \n",
       "2022-11-04 -0.120065    21145.9  -0.037496           0.454107     551.5   \n",
       "2022-11-11 -0.157315    17049.9  -0.037250           0.310246   -4096.0   \n",
       "2022-11-18 -0.186452    16638.3  -0.029137           0.185215    -411.6   \n",
       "2022-11-25 -0.208468    16512.3  -0.022016           0.118079    -126.0   \n",
       "2022-12-02 -0.220775    17093.6  -0.012307           0.059034     581.3   \n",
       "\n",
       "            btc_diff_percent  \n",
       "Date                          \n",
       "2010-09-03          0.000000  \n",
       "2010-09-10          0.000000  \n",
       "2010-09-17          0.000000  \n",
       "2010-09-24          0.000000  \n",
       "2010-10-01          0.000000  \n",
       "...                      ...  \n",
       "2022-11-04          0.026779  \n",
       "2022-11-11         -0.193702  \n",
       "2022-11-18         -0.024141  \n",
       "2022-11-25         -0.007573  \n",
       "2022-12-02          0.035204  \n",
       "\n",
       "[640 rows x 6 columns]"
      ]
     },
     "execution_count": 314,
     "metadata": {},
     "output_type": "execute_result"
    }
   ],
   "source": [
    "df = df_nfci.join(df_btc, on = \"Date\")\n",
    "df = df[2068:]\n",
    "\n",
    "df['btc_price'] = df['btc_price'].apply(lambda x: float(x.split()[0].replace(',', '')))\n",
    "df[\"btc_price\"] = df[\"btc_price\"].astype(float)\n",
    "df[\"NFCI\"] = df[\"NFCI\"].astype(float)\n",
    "\n",
    "df[\"NFCI_diff\"] = df[\"NFCI\"].diff()\n",
    "df[\"NFCI_diff_percent\"] = (df[\"NFCI_diff\"] / df[\"NFCI\"].shift(periods = 1))\n",
    "\n",
    "df[\"btc_diff\"] = df[\"btc_price\"].diff()\n",
    "df[\"btc_diff_percent\"] = (df[\"btc_diff\"] / df[\"btc_price\"].shift(periods = 1))\n",
    "\n",
    "df = df.dropna()\n",
    "\n",
    "df"
   ]
  },
  {
   "cell_type": "code",
   "execution_count": 315,
   "metadata": {},
   "outputs": [
    {
     "data": {
      "text/plain": [
       "[<matplotlib.lines.Line2D at 0x7fd11ae29ba0>]"
      ]
     },
     "execution_count": 315,
     "metadata": {},
     "output_type": "execute_result"
    },
    {
     "data": {
      "image/png": "[encoded data removed]",
      "text/plain": [
       "<Figure size 576x396 with 1 Axes>"
      ]
     },
     "metadata": {},
     "output_type": "display_data"
    }
   ],
   "source": [
    "plt.plot(df[\"NFCI\"])"
   ]
  },
  {
   "cell_type": "code",
   "execution_count": 316,
   "metadata": {},
   "outputs": [
    {
     "data": {
      "text/plain": [
       "[<matplotlib.lines.Line2D at 0x7fd11af714b0>]"
      ]
     },
     "execution_count": 316,
     "metadata": {},
     "output_type": "execute_result"
    },
    {
     "data": {
      "image/png": "[encoded data removed]",
      "text/plain": [
       "<Figure size 576x396 with 1 Axes>"
      ]
     },
     "metadata": {},
     "output_type": "display_data"
    }
   ],
   "source": [
    "plt.plot(df[\"btc_price\"])"
   ]
  },
  {
   "cell_type": "code",
   "execution_count": 317,
   "metadata": {},
   "outputs": [
    {
     "data": {
      "text/plain": [
       "(-0.5, 0.5)"
      ]
     },
     "execution_count": 317,
     "metadata": {},
     "output_type": "execute_result"
    },
    {
     "data": {
      "image/png": "[encoded data removed]",
      "text/plain": [
       "<Figure size 576x396 with 1 Axes>"
      ]
     },
     "metadata": {},
     "output_type": "display_data"
    }
   ],
   "source": [
    "plt.scatter(df[\"NFCI\"], df[\"btc_diff_percent\"])\n",
    "plt.xlim(-0.8, 0.1)\n",
    "plt.ylim(-0.5, 0.5)"
   ]
  },
  {
   "cell_type": "code",
   "execution_count": 318,
   "metadata": {},
   "outputs": [
    {
     "data": {
      "text/plain": [
       "(-0.07950948798305102, 0.04435709471522814)"
      ]
     },
     "execution_count": 318,
     "metadata": {},
     "output_type": "execute_result"
    }
   ],
   "source": [
    "pearsonr = st.pearsonr(df[\"NFCI\"], df[\"btc_diff_percent\"])"
   ]
  },
  {
   "cell_type": "code",
   "execution_count": null,
   "metadata": {},
   "outputs": [],
   "source": [
    "plt.scatter(df[\"NFCI\"], df[\"btc_diff_percent\"])\n",
    "plt.plot(df[\"NFCI\"], )\n",
    "plt.xlim(-0.8, 0.1)\n",
    "plt.ylim(-0.5, 0.5)"
   ]
  }
 ],
 "metadata": {
  "kernelspec": {
   "display_name": "Python 3.10.5 64-bit ('3.10.5')",
   "language": "python",
   "name": "python3"
  },
  "language_info": {
   "codemirror_mode": {
    "name": "ipython",
    "version": 3
   },
   "file_extension": ".py",
   "mimetype": "text/x-python",
   "name": "python",
   "nbconvert_exporter": "python",
   "pygments_lexer": "ipython3",
   "version": "3.10.5"
  },
  "orig_nbformat": 4,
  "vscode": {
   "interpreter": {
    "hash": "63dad421a79b07ba21fceab07671fcec5ca6829179a621673b010b0b1dc8bd66"
   }
  }
 },
 "nbformat": 4,
 "nbformat_minor": 2
}
